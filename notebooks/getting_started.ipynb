{
  "nbformat": 4,
  "nbformat_minor": 0,
  "metadata": {
    "colab": {
      "name": "getting_started.ipynb",
      "version": "0.3.2",
      "provenance": []
    },
    "kernelspec": {
      "name": "python3",
      "display_name": "Python 3"
    }
  },
  "cells": [
    {
      "cell_type": "markdown",
      "metadata": {
        "id": "2X6dtUCnNa1f",
        "colab_type": "text"
      },
      "source": [
        "<table align=\"left\"><td>\n",
        "  <a target=\"_blank\"  href=\"https://colab.research.google.com/github/nateraw/BeautifulSauce/blob/master/notebooks/getting_started.ipynb\">\n",
        "    <img src=\"https://www.tensorflow.org/images/colab_logo_32px.png\" />Run in Google Colab\n",
        "  </a>\n",
        "</td><td>\n",
        "  <a target=\"_blank\"  href=\"https://github.com/nateraw/BeautifulSauce/blob/master/notebooks/getting_started.ipynb\">\n",
        "    <img width=32px src=\"https://www.tensorflow.org/images/GitHub-Mark-32px.png\" />View source on GitHub</a>\n",
        "</td></table>"
      ]
    },
    {
      "cell_type": "markdown",
      "metadata": {
        "id": "TElS8capBuRu",
        "colab_type": "text"
      },
      "source": [
        "# Install BeautifulSauce"
      ]
    },
    {
      "cell_type": "code",
      "metadata": {
        "id": "sokos8FO8eI8",
        "colab_type": "code",
        "colab": {}
      },
      "source": [
        "!pip install BeautifulSauce --upgrade"
      ],
      "execution_count": 0,
      "outputs": []
    },
    {
      "cell_type": "code",
      "metadata": {
        "id": "f-a5T9rG8fj-",
        "colab_type": "code",
        "colab": {}
      },
      "source": [
        "from BeautifulSauce import Sauce\n",
        "from BeautifulSauce.featurizer import Featurizer\n",
        "\n",
        "import re"
      ],
      "execution_count": 0,
      "outputs": []
    },
    {
      "cell_type": "markdown",
      "metadata": {
        "id": "jwxKCGpPBzKJ",
        "colab_type": "text"
      },
      "source": [
        "# Utilities\n",
        "BeautifulSauce comes with a few handy utilities and functionalities that are built on top of the BeautifulSoup object. "
      ]
    },
    {
      "cell_type": "markdown",
      "metadata": {
        "id": "kUPLYt3P8o2x",
        "colab_type": "text"
      },
      "source": [
        "## Reading from file\n",
        "BeautifulSauce has a built in class method to simply init soup `from_file(filepath)`. Here, we show how that works after creating and saving an example HTML file."
      ]
    },
    {
      "cell_type": "code",
      "metadata": {
        "id": "qODCrfHzB4Kd",
        "colab_type": "code",
        "colab": {}
      },
      "source": [
        "# First, we'll make a file and save it to the Colab server\n",
        "html_str = \"\"\"\n",
        "<!DOCTYPE html>\n",
        "<html>\n",
        "    <head>\n",
        "        <meta charset=\"utf-8\"></meta>\n",
        "    </head>\n",
        "    <body>\n",
        "        <div style=\"font-weight: bold;\">\n",
        "            <div>\n",
        "                bold text here\n",
        "                    <p>bold text</p>\n",
        "                    <div style=\"font-weight: normal;\">\n",
        "                        normal text\n",
        "                        <p>normal text</p>\n",
        "                    </div>            \n",
        "            </div>\n",
        "        </div>\n",
        "\n",
        "        <div>\n",
        "            <div>\n",
        "                normal text\n",
        "            </div>\n",
        "            <div>\n",
        "                <b>bold text</b>\n",
        "            </div>\n",
        "        </div>\n",
        "\n",
        "    </body>\n",
        "</html>\n",
        "\"\"\"\n",
        "\n",
        "with open(\"example.html\",\"w\") as w:\n",
        "    w.write(html_str)"
      ],
      "execution_count": 0,
      "outputs": []
    },
    {
      "cell_type": "code",
      "metadata": {
        "id": "YpySfE4KCMfN",
        "colab_type": "code",
        "outputId": "b4ff00a8-9d50-4ab2-fedb-ea938ab6a4c5",
        "colab": {
          "base_uri": "https://localhost:8080/",
          "height": 571
        }
      },
      "source": [
        "soup = Sauce.from_file('example.html')\n",
        "print(soup)"
      ],
      "execution_count": 42,
      "outputs": [
        {
          "output_type": "stream",
          "text": [
            "<!DOCTYPE html>\n",
            "<html>\n",
            " <head>\n",
            "  <meta charset=\"utf-8\"/>\n",
            " </head>\n",
            " <body>\n",
            "  <div style=\"font-weight: bold;\">\n",
            "   <div>\n",
            "    bold text here\n",
            "    <p>\n",
            "     bold text\n",
            "    </p>\n",
            "    <div style=\"font-weight: normal;\">\n",
            "     normal text\n",
            "     <p>\n",
            "      normal text\n",
            "     </p>\n",
            "    </div>\n",
            "   </div>\n",
            "  </div>\n",
            "  <div>\n",
            "   <div>\n",
            "    normal text\n",
            "   </div>\n",
            "   <div>\n",
            "    <b>\n",
            "     bold text\n",
            "    </b>\n",
            "   </div>\n",
            "  </div>\n",
            " </body>\n",
            "</html>\n",
            "\n"
          ],
          "name": "stdout"
        }
      ]
    },
    {
      "cell_type": "markdown",
      "metadata": {
        "id": "adyJUPqTCSD3",
        "colab_type": "text"
      },
      "source": [
        "## Reading from URL\n",
        "Additionally, instead of having to write the boilerplate necessary for initializing Soup objects from a hosted URL, you can just call the `from_url(url)` function of the Sauce class."
      ]
    },
    {
      "cell_type": "code",
      "metadata": {
        "id": "ryDAjCTSC24O",
        "colab_type": "code",
        "outputId": "15f74f2c-9543-4ef6-cda3-f9d2598d00ce",
        "colab": {
          "base_uri": "https://localhost:8080/",
          "height": 34
        }
      },
      "source": [
        "url = \"https://en.wikipedia.org/wiki/Grace_Hopper\"\n",
        "soup = Sauce.from_url(url)\n",
        "tag = soup.find(id='firstHeading')\n",
        "print(tag.text)"
      ],
      "execution_count": 0,
      "outputs": [
        {
          "output_type": "stream",
          "text": [
            "Grace Hopper\n"
          ],
          "name": "stdout"
        }
      ]
    },
    {
      "cell_type": "markdown",
      "metadata": {
        "id": "gzs03b7NDmQ2",
        "colab_type": "text"
      },
      "source": [
        "## Indexing HTML trees\n",
        "BeautifulSauce also adds a unique attribute to each tag: \"idx\". This attribute denotes the position of the tag within the HTML tree. Take a look at the example below..."
      ]
    },
    {
      "cell_type": "code",
      "metadata": {
        "id": "sASR2q2qD_Nh",
        "colab_type": "code",
        "outputId": "ff6f9a7b-f5d3-403c-95f6-579b4efd1ee8",
        "colab": {
          "base_uri": "https://localhost:8080/",
          "height": 790
        }
      },
      "source": [
        "soup = Sauce.from_file('example.html')\n",
        "print(soup)\n",
        "for tag in soup.find_all():\n",
        "    print(\"Tag Name: {:4s} | Tag idx: {}\".format(tag.name, tag.idx))"
      ],
      "execution_count": 0,
      "outputs": [
        {
          "output_type": "stream",
          "text": [
            "<!DOCTYPE html>\n",
            "<html>\n",
            " <head>\n",
            "  <meta charset=\"utf-8\"/>\n",
            " </head>\n",
            " <body>\n",
            "  <div style=\"font-weight: bold;\">\n",
            "   <div>\n",
            "    bold text here\n",
            "    <p>\n",
            "     bold text\n",
            "    </p>\n",
            "    <div style=\"font-weight: normal;\">\n",
            "     normal text\n",
            "     <p>\n",
            "      normal text\n",
            "     </p>\n",
            "    </div>\n",
            "   </div>\n",
            "  </div>\n",
            "  <div>\n",
            "   <div>\n",
            "    normal text\n",
            "   </div>\n",
            "   <div>\n",
            "    <b>\n",
            "     bold text\n",
            "    </b>\n",
            "   </div>\n",
            "  </div>\n",
            " </body>\n",
            "</html>\n",
            "\n",
            "Tag Name: html | Tag idx: [0]\n",
            "Tag Name: head | Tag idx: [0, 0]\n",
            "Tag Name: meta | Tag idx: [0, 0, 0]\n",
            "Tag Name: body | Tag idx: [0, 1]\n",
            "Tag Name: div  | Tag idx: [0, 1, 0]\n",
            "Tag Name: div  | Tag idx: [0, 1, 0, 0]\n",
            "Tag Name: p    | Tag idx: [0, 1, 0, 0, 0]\n",
            "Tag Name: div  | Tag idx: [0, 1, 0, 0, 1]\n",
            "Tag Name: p    | Tag idx: [0, 1, 0, 0, 1, 0]\n",
            "Tag Name: div  | Tag idx: [0, 1, 1]\n",
            "Tag Name: div  | Tag idx: [0, 1, 1, 0]\n",
            "Tag Name: div  | Tag idx: [0, 1, 1, 1]\n",
            "Tag Name: b    | Tag idx: [0, 1, 1, 1, 0]\n"
          ],
          "name": "stdout"
        }
      ]
    },
    {
      "cell_type": "markdown",
      "metadata": {
        "id": "Oi7VYovtEh3r",
        "colab_type": "text"
      },
      "source": [
        "---\n",
        "\n",
        "**You can get tags by their `.idx` attribute by calling `sauce.get_from_idx(indices)`**"
      ]
    },
    {
      "cell_type": "code",
      "metadata": {
        "id": "WW8juju8GZID",
        "colab_type": "code",
        "colab": {
          "base_uri": "https://localhost:8080/",
          "height": 34
        },
        "outputId": "9f1da4d2-66f3-40e3-8b17-75afc1b599ef"
      },
      "source": [
        "soup.get_from_idx([0,1,0,0,0]).name"
      ],
      "execution_count": 11,
      "outputs": [
        {
          "output_type": "execute_result",
          "data": {
            "text/plain": [
              "'p'"
            ]
          },
          "metadata": {
            "tags": []
          },
          "execution_count": 11
        }
      ]
    },
    {
      "cell_type": "markdown",
      "metadata": {
        "id": "ywfaaYTtKfMH",
        "colab_type": "text"
      },
      "source": [
        "# Featurization of HTML Documents\n",
        "The main functionality of BeautifulSauce is to help you featurize HTML documents. What does this mean? Well, basically, you are able to add attributes to `Tag` elements via the `BeautifulSauce.features.Featurizer`. These attributes can be:\n",
        "  - Categorical - Downstream, you can automatically dummy code these in a dataframe (if you want to). \n",
        "  - Numerical - Downstream, you can standardize these on scale of 0.0-1.0 (if you want).\n",
        "  - Text\n",
        "\n",
        "Any feature can be added via one of the 3 built in decorators inside the Featurizer. \n",
        "  - @ftrs.add_categorical_feature\n",
        "  - @ftrs.add_numerical_feature\n",
        "  - @ftrs.add_text_feature\n",
        "  \n",
        "Let's walk through an example..."
      ]
    },
    {
      "cell_type": "code",
      "metadata": {
        "id": "rw761CzyGtPp",
        "colab_type": "code",
        "colab": {}
      },
      "source": [
        "# Initialize a Featurizer\n",
        "ftrs = Featurizer()"
      ],
      "execution_count": 0,
      "outputs": []
    },
    {
      "cell_type": "code",
      "metadata": {
        "id": "1DzGVyZAGzNC",
        "colab_type": "code",
        "colab": {}
      },
      "source": [
        "# Add a categorical feature\n",
        "@ftrs.add_categorical_feature(\"tag_name\")\n",
        "def f_tag_name(tag):\n",
        "    return tag.name"
      ],
      "execution_count": 0,
      "outputs": []
    },
    {
      "cell_type": "code",
      "metadata": {
        "id": "kjAYOyd4H--P",
        "colab_type": "code",
        "colab": {}
      },
      "source": [
        "# Add numerical feature\n",
        "@ftrs.add_numerical_feature('char_cnt')\n",
        "def f_char_cnt(tag):\n",
        "    if tag.name in ['head', 'meta', 'script']:\n",
        "        return 0\n",
        "    texts = list(tag.find_all(text=True, recursive=False))\n",
        "    if len(texts) < 1:\n",
        "        return 0\n",
        "    texts = \" \".join(texts).strip()\n",
        "    texts = re.sub(\"\\n\", \" \", texts)\n",
        "    return len(texts)"
      ],
      "execution_count": 0,
      "outputs": []
    },
    {
      "cell_type": "code",
      "metadata": {
        "id": "iLb31BYyIUWe",
        "colab_type": "code",
        "colab": {}
      },
      "source": [
        "# Add text feature\n",
        "@ftrs.add_text_feature('text')\n",
        "def f_text(tag):\n",
        "    if tag.name in ['head', 'meta', 'script']:\n",
        "        return \"\"\n",
        "    texts = list(tag.find_all(text=True, recursive=False))\n",
        "    if len(texts) < 1:\n",
        "        return \"\"\n",
        "    texts = \" \".join(texts).strip()\n",
        "    texts = re.sub(\"\\n\", \" \", texts)\n",
        "    return texts"
      ],
      "execution_count": 0,
      "outputs": []
    },
    {
      "cell_type": "code",
      "metadata": {
        "id": "pDgK8hIaIbuT",
        "colab_type": "code",
        "colab": {}
      },
      "source": [
        "# Read in soup from file\n",
        "soup = Sauce.from_file('example.html')\n",
        "# Apply your featurizer to this soup object\n",
        "ftrs.featurize(soup)"
      ],
      "execution_count": 0,
      "outputs": []
    },
    {
      "cell_type": "code",
      "metadata": {
        "id": "JeOg3BHcIhBj",
        "colab_type": "code",
        "colab": {
          "base_uri": "https://localhost:8080/",
          "height": 235
        },
        "outputId": "7c6b3f4b-a56e-4682-e029-c3ebed505be9"
      },
      "source": [
        "# Take a look at what the .features attribute looks like\n",
        "for tag in soup.find_all():\n",
        "    print(tag.features)"
      ],
      "execution_count": 38,
      "outputs": [
        {
          "output_type": "stream",
          "text": [
            "{'categorical': {'tag_name': 'html'}, 'numerical': {'char_cnt': 0}, 'text': {'text': ''}}\n",
            "{'categorical': {'tag_name': 'head'}, 'numerical': {'char_cnt': 0}, 'text': {'text': ''}}\n",
            "{'categorical': {'tag_name': 'meta'}, 'numerical': {'char_cnt': 0}, 'text': {'text': ''}}\n",
            "{'categorical': {'tag_name': 'body'}, 'numerical': {'char_cnt': 0}, 'text': {'text': ''}}\n",
            "{'categorical': {'tag_name': 'div'}, 'numerical': {'char_cnt': 0}, 'text': {'text': ''}}\n",
            "{'categorical': {'tag_name': 'div'}, 'numerical': {'char_cnt': 14}, 'text': {'text': 'bold text here'}}\n",
            "{'categorical': {'tag_name': 'p'}, 'numerical': {'char_cnt': 9}, 'text': {'text': 'bold text'}}\n",
            "{'categorical': {'tag_name': 'div'}, 'numerical': {'char_cnt': 11}, 'text': {'text': 'normal text'}}\n",
            "{'categorical': {'tag_name': 'p'}, 'numerical': {'char_cnt': 11}, 'text': {'text': 'normal text'}}\n",
            "{'categorical': {'tag_name': 'div'}, 'numerical': {'char_cnt': 0}, 'text': {'text': ''}}\n",
            "{'categorical': {'tag_name': 'div'}, 'numerical': {'char_cnt': 11}, 'text': {'text': 'normal text'}}\n",
            "{'categorical': {'tag_name': 'div'}, 'numerical': {'char_cnt': 0}, 'text': {'text': ''}}\n",
            "{'categorical': {'tag_name': 'b'}, 'numerical': {'char_cnt': 9}, 'text': {'text': 'bold text'}}\n"
          ],
          "name": "stdout"
        }
      ]
    },
    {
      "cell_type": "markdown",
      "metadata": {
        "id": "0pw1RBpIJITK",
        "colab_type": "text"
      },
      "source": [
        "---\n",
        "### to_dataframe()\n",
        "Now, it's pretty clear that the `soup.features` attribute, while helpful, would be potentially annoying to interface with when using the soup object itself. The true purpose of this attribute is to aid in outputting these features to a Pandas DataFrame. Let's do that now..."
      ]
    },
    {
      "cell_type": "code",
      "metadata": {
        "id": "O-O-OLICIj_x",
        "colab_type": "code",
        "colab": {
          "base_uri": "https://localhost:8080/",
          "height": 432
        },
        "outputId": "b8cd4fdc-bdc9-4b0b-a3e9-3414f9c25321"
      },
      "source": [
        "df = ftrs.to_dataframe(soup)\n",
        "df"
      ],
      "execution_count": 39,
      "outputs": [
        {
          "output_type": "execute_result",
          "data": {
            "text/html": [
              "<div>\n",
              "<style scoped>\n",
              "    .dataframe tbody tr th:only-of-type {\n",
              "        vertical-align: middle;\n",
              "    }\n",
              "\n",
              "    .dataframe tbody tr th {\n",
              "        vertical-align: top;\n",
              "    }\n",
              "\n",
              "    .dataframe thead th {\n",
              "        text-align: right;\n",
              "    }\n",
              "</style>\n",
              "<table border=\"1\" class=\"dataframe\">\n",
              "  <thead>\n",
              "    <tr style=\"text-align: right;\">\n",
              "      <th></th>\n",
              "      <th>tag_name</th>\n",
              "      <th>char_cnt</th>\n",
              "      <th>text</th>\n",
              "    </tr>\n",
              "  </thead>\n",
              "  <tbody>\n",
              "    <tr>\n",
              "      <th>0</th>\n",
              "      <td>html</td>\n",
              "      <td>0</td>\n",
              "      <td></td>\n",
              "    </tr>\n",
              "    <tr>\n",
              "      <th>1</th>\n",
              "      <td>head</td>\n",
              "      <td>0</td>\n",
              "      <td></td>\n",
              "    </tr>\n",
              "    <tr>\n",
              "      <th>2</th>\n",
              "      <td>meta</td>\n",
              "      <td>0</td>\n",
              "      <td></td>\n",
              "    </tr>\n",
              "    <tr>\n",
              "      <th>3</th>\n",
              "      <td>body</td>\n",
              "      <td>0</td>\n",
              "      <td></td>\n",
              "    </tr>\n",
              "    <tr>\n",
              "      <th>4</th>\n",
              "      <td>div</td>\n",
              "      <td>0</td>\n",
              "      <td></td>\n",
              "    </tr>\n",
              "    <tr>\n",
              "      <th>5</th>\n",
              "      <td>div</td>\n",
              "      <td>14</td>\n",
              "      <td>bold text here</td>\n",
              "    </tr>\n",
              "    <tr>\n",
              "      <th>6</th>\n",
              "      <td>p</td>\n",
              "      <td>9</td>\n",
              "      <td>bold text</td>\n",
              "    </tr>\n",
              "    <tr>\n",
              "      <th>7</th>\n",
              "      <td>div</td>\n",
              "      <td>11</td>\n",
              "      <td>normal text</td>\n",
              "    </tr>\n",
              "    <tr>\n",
              "      <th>8</th>\n",
              "      <td>p</td>\n",
              "      <td>11</td>\n",
              "      <td>normal text</td>\n",
              "    </tr>\n",
              "    <tr>\n",
              "      <th>9</th>\n",
              "      <td>div</td>\n",
              "      <td>0</td>\n",
              "      <td></td>\n",
              "    </tr>\n",
              "    <tr>\n",
              "      <th>10</th>\n",
              "      <td>div</td>\n",
              "      <td>11</td>\n",
              "      <td>normal text</td>\n",
              "    </tr>\n",
              "    <tr>\n",
              "      <th>11</th>\n",
              "      <td>div</td>\n",
              "      <td>0</td>\n",
              "      <td></td>\n",
              "    </tr>\n",
              "    <tr>\n",
              "      <th>12</th>\n",
              "      <td>b</td>\n",
              "      <td>9</td>\n",
              "      <td>bold text</td>\n",
              "    </tr>\n",
              "  </tbody>\n",
              "</table>\n",
              "</div>"
            ],
            "text/plain": [
              "   tag_name  char_cnt            text\n",
              "0      html         0                \n",
              "1      head         0                \n",
              "2      meta         0                \n",
              "3      body         0                \n",
              "4       div         0                \n",
              "5       div        14  bold text here\n",
              "6         p         9       bold text\n",
              "7       div        11     normal text\n",
              "8         p        11     normal text\n",
              "9       div         0                \n",
              "10      div        11     normal text\n",
              "11      div         0                \n",
              "12        b         9       bold text"
            ]
          },
          "metadata": {
            "tags": []
          },
          "execution_count": 39
        }
      ]
    },
    {
      "cell_type": "markdown",
      "metadata": {
        "id": "_muUvVKiI0d3",
        "colab_type": "text"
      },
      "source": [
        "### Normalization + Dummy Coding\n",
        "As mentioned previously, there is a reason why the decorator functions are separated out into categorical, numerical, and text based features. It is so we can both dummy code the categorical features, and standardize the numerical features if we choose to do so. This happens in the `ftrs.to_dataframe(soup)` function. Take a look..."
      ]
    },
    {
      "cell_type": "code",
      "metadata": {
        "id": "kF_i8hgLKEyf",
        "colab_type": "code",
        "colab": {
          "base_uri": "https://localhost:8080/",
          "height": 432
        },
        "outputId": "7d6c5d54-2d8d-4168-a189-7f0ffab68267"
      },
      "source": [
        "df = ftrs.to_dataframe(soup, normalize=True)\n",
        "df"
      ],
      "execution_count": 40,
      "outputs": [
        {
          "output_type": "execute_result",
          "data": {
            "text/html": [
              "<div>\n",
              "<style scoped>\n",
              "    .dataframe tbody tr th:only-of-type {\n",
              "        vertical-align: middle;\n",
              "    }\n",
              "\n",
              "    .dataframe tbody tr th {\n",
              "        vertical-align: top;\n",
              "    }\n",
              "\n",
              "    .dataframe thead th {\n",
              "        text-align: right;\n",
              "    }\n",
              "</style>\n",
              "<table border=\"1\" class=\"dataframe\">\n",
              "  <thead>\n",
              "    <tr style=\"text-align: right;\">\n",
              "      <th></th>\n",
              "      <th>char_cnt</th>\n",
              "      <th>tag_name_b</th>\n",
              "      <th>tag_name_body</th>\n",
              "      <th>tag_name_div</th>\n",
              "      <th>tag_name_head</th>\n",
              "      <th>tag_name_html</th>\n",
              "      <th>tag_name_meta</th>\n",
              "      <th>tag_name_p</th>\n",
              "    </tr>\n",
              "  </thead>\n",
              "  <tbody>\n",
              "    <tr>\n",
              "      <th>0</th>\n",
              "      <td>0.000000</td>\n",
              "      <td>0</td>\n",
              "      <td>0</td>\n",
              "      <td>0</td>\n",
              "      <td>0</td>\n",
              "      <td>1</td>\n",
              "      <td>0</td>\n",
              "      <td>0</td>\n",
              "    </tr>\n",
              "    <tr>\n",
              "      <th>1</th>\n",
              "      <td>0.000000</td>\n",
              "      <td>0</td>\n",
              "      <td>0</td>\n",
              "      <td>0</td>\n",
              "      <td>1</td>\n",
              "      <td>0</td>\n",
              "      <td>0</td>\n",
              "      <td>0</td>\n",
              "    </tr>\n",
              "    <tr>\n",
              "      <th>2</th>\n",
              "      <td>0.000000</td>\n",
              "      <td>0</td>\n",
              "      <td>0</td>\n",
              "      <td>0</td>\n",
              "      <td>0</td>\n",
              "      <td>0</td>\n",
              "      <td>1</td>\n",
              "      <td>0</td>\n",
              "    </tr>\n",
              "    <tr>\n",
              "      <th>3</th>\n",
              "      <td>0.000000</td>\n",
              "      <td>0</td>\n",
              "      <td>1</td>\n",
              "      <td>0</td>\n",
              "      <td>0</td>\n",
              "      <td>0</td>\n",
              "      <td>0</td>\n",
              "      <td>0</td>\n",
              "    </tr>\n",
              "    <tr>\n",
              "      <th>4</th>\n",
              "      <td>0.000000</td>\n",
              "      <td>0</td>\n",
              "      <td>0</td>\n",
              "      <td>1</td>\n",
              "      <td>0</td>\n",
              "      <td>0</td>\n",
              "      <td>0</td>\n",
              "      <td>0</td>\n",
              "    </tr>\n",
              "    <tr>\n",
              "      <th>5</th>\n",
              "      <td>1.000000</td>\n",
              "      <td>0</td>\n",
              "      <td>0</td>\n",
              "      <td>1</td>\n",
              "      <td>0</td>\n",
              "      <td>0</td>\n",
              "      <td>0</td>\n",
              "      <td>0</td>\n",
              "    </tr>\n",
              "    <tr>\n",
              "      <th>6</th>\n",
              "      <td>0.962713</td>\n",
              "      <td>0</td>\n",
              "      <td>0</td>\n",
              "      <td>0</td>\n",
              "      <td>0</td>\n",
              "      <td>0</td>\n",
              "      <td>0</td>\n",
              "      <td>1</td>\n",
              "    </tr>\n",
              "    <tr>\n",
              "      <th>7</th>\n",
              "      <td>0.979648</td>\n",
              "      <td>0</td>\n",
              "      <td>0</td>\n",
              "      <td>1</td>\n",
              "      <td>0</td>\n",
              "      <td>0</td>\n",
              "      <td>0</td>\n",
              "      <td>0</td>\n",
              "    </tr>\n",
              "    <tr>\n",
              "      <th>8</th>\n",
              "      <td>0.979648</td>\n",
              "      <td>0</td>\n",
              "      <td>0</td>\n",
              "      <td>0</td>\n",
              "      <td>0</td>\n",
              "      <td>0</td>\n",
              "      <td>0</td>\n",
              "      <td>1</td>\n",
              "    </tr>\n",
              "    <tr>\n",
              "      <th>9</th>\n",
              "      <td>0.000000</td>\n",
              "      <td>0</td>\n",
              "      <td>0</td>\n",
              "      <td>1</td>\n",
              "      <td>0</td>\n",
              "      <td>0</td>\n",
              "      <td>0</td>\n",
              "      <td>0</td>\n",
              "    </tr>\n",
              "    <tr>\n",
              "      <th>10</th>\n",
              "      <td>0.979648</td>\n",
              "      <td>0</td>\n",
              "      <td>0</td>\n",
              "      <td>1</td>\n",
              "      <td>0</td>\n",
              "      <td>0</td>\n",
              "      <td>0</td>\n",
              "      <td>0</td>\n",
              "    </tr>\n",
              "    <tr>\n",
              "      <th>11</th>\n",
              "      <td>0.000000</td>\n",
              "      <td>0</td>\n",
              "      <td>0</td>\n",
              "      <td>1</td>\n",
              "      <td>0</td>\n",
              "      <td>0</td>\n",
              "      <td>0</td>\n",
              "      <td>0</td>\n",
              "    </tr>\n",
              "    <tr>\n",
              "      <th>12</th>\n",
              "      <td>0.962713</td>\n",
              "      <td>1</td>\n",
              "      <td>0</td>\n",
              "      <td>0</td>\n",
              "      <td>0</td>\n",
              "      <td>0</td>\n",
              "      <td>0</td>\n",
              "      <td>0</td>\n",
              "    </tr>\n",
              "  </tbody>\n",
              "</table>\n",
              "</div>"
            ],
            "text/plain": [
              "    char_cnt  tag_name_b  ...  tag_name_meta  tag_name_p\n",
              "0   0.000000           0  ...              0           0\n",
              "1   0.000000           0  ...              0           0\n",
              "2   0.000000           0  ...              1           0\n",
              "3   0.000000           0  ...              0           0\n",
              "4   0.000000           0  ...              0           0\n",
              "5   1.000000           0  ...              0           0\n",
              "6   0.962713           0  ...              0           1\n",
              "7   0.979648           0  ...              0           0\n",
              "8   0.979648           0  ...              0           1\n",
              "9   0.000000           0  ...              0           0\n",
              "10  0.979648           0  ...              0           0\n",
              "11  0.000000           0  ...              0           0\n",
              "12  0.962713           1  ...              0           0\n",
              "\n",
              "[13 rows x 8 columns]"
            ]
          },
          "metadata": {
            "tags": []
          },
          "execution_count": 40
        }
      ]
    }
  ]
}